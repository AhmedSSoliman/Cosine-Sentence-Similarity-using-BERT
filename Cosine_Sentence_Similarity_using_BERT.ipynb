{
  "nbformat": 4,
  "nbformat_minor": 0,
  "metadata": {
    "colab": {
      "name": "Cosine-Sentence-Similarity-using-BERT.ipynb",
      "provenance": [],
      "collapsed_sections": [],
      "authorship_tag": "ABX9TyNwxg1I1fSUetWdz/DEGyQ4"
    },
    "kernelspec": {
      "name": "python3",
      "display_name": "Python 3"
    },
    "accelerator": "GPU"
  },
  "cells": [
    {
      "cell_type": "markdown",
      "metadata": {
        "id": "3j512AxUsTul"
      },
      "source": [
        "Cosine-Sentence-Similarity-using-BERT"
      ]
    },
    {
      "cell_type": "code",
      "metadata": {
        "colab": {
          "base_uri": "https://localhost:8080/"
        },
        "id": "TT0ughlmtLtb",
        "outputId": "57d54b30-7afd-4438-e5c4-025114d8a4fc"
      },
      "source": [
        "!pip install sentence_transformers"
      ],
      "execution_count": 4,
      "outputs": [
        {
          "output_type": "stream",
          "text": [
            "Collecting sentence_transformers\n",
            "\u001b[?25l  Downloading https://files.pythonhosted.org/packages/6a/e2/84d6acfcee2d83164149778a33b6bdd1a74e1bcb59b2b2cd1b861359b339/sentence-transformers-0.4.1.2.tar.gz (64kB)\n",
            "\u001b[K     |████████████████████████████████| 71kB 6.4MB/s \n",
            "\u001b[?25hCollecting transformers<5.0.0,>=3.1.0\n",
            "\u001b[?25l  Downloading https://files.pythonhosted.org/packages/cd/40/866cbfac4601e0f74c7303d533a9c5d4a53858bd402e08e3e294dd271f25/transformers-4.2.1-py3-none-any.whl (1.8MB)\n",
            "\u001b[K     |████████████████████████████████| 1.8MB 14.4MB/s \n",
            "\u001b[?25hRequirement already satisfied: tqdm in /usr/local/lib/python3.6/dist-packages (from sentence_transformers) (4.41.1)\n",
            "Requirement already satisfied: torch>=1.6.0 in /usr/local/lib/python3.6/dist-packages (from sentence_transformers) (1.7.0+cu101)\n",
            "Requirement already satisfied: numpy in /usr/local/lib/python3.6/dist-packages (from sentence_transformers) (1.19.5)\n",
            "Requirement already satisfied: scikit-learn in /usr/local/lib/python3.6/dist-packages (from sentence_transformers) (0.22.2.post1)\n",
            "Requirement already satisfied: scipy in /usr/local/lib/python3.6/dist-packages (from sentence_transformers) (1.4.1)\n",
            "Requirement already satisfied: nltk in /usr/local/lib/python3.6/dist-packages (from sentence_transformers) (3.2.5)\n",
            "Collecting sentencepiece\n",
            "\u001b[?25l  Downloading https://files.pythonhosted.org/packages/14/67/e42bd1181472c95c8cda79305df848264f2a7f62740995a46945d9797b67/sentencepiece-0.1.95-cp36-cp36m-manylinux2014_x86_64.whl (1.2MB)\n",
            "\u001b[K     |████████████████████████████████| 1.2MB 43.6MB/s \n",
            "\u001b[?25hCollecting tokenizers==0.9.4\n",
            "\u001b[?25l  Downloading https://files.pythonhosted.org/packages/0f/1c/e789a8b12e28be5bc1ce2156cf87cb522b379be9cadc7ad8091a4cc107c4/tokenizers-0.9.4-cp36-cp36m-manylinux2010_x86_64.whl (2.9MB)\n",
            "\u001b[K     |████████████████████████████████| 2.9MB 49.5MB/s \n",
            "\u001b[?25hRequirement already satisfied: importlib-metadata; python_version < \"3.8\" in /usr/local/lib/python3.6/dist-packages (from transformers<5.0.0,>=3.1.0->sentence_transformers) (3.3.0)\n",
            "Requirement already satisfied: packaging in /usr/local/lib/python3.6/dist-packages (from transformers<5.0.0,>=3.1.0->sentence_transformers) (20.8)\n",
            "Requirement already satisfied: requests in /usr/local/lib/python3.6/dist-packages (from transformers<5.0.0,>=3.1.0->sentence_transformers) (2.23.0)\n",
            "Requirement already satisfied: regex!=2019.12.17 in /usr/local/lib/python3.6/dist-packages (from transformers<5.0.0,>=3.1.0->sentence_transformers) (2019.12.20)\n",
            "Requirement already satisfied: dataclasses; python_version < \"3.7\" in /usr/local/lib/python3.6/dist-packages (from transformers<5.0.0,>=3.1.0->sentence_transformers) (0.8)\n",
            "Requirement already satisfied: filelock in /usr/local/lib/python3.6/dist-packages (from transformers<5.0.0,>=3.1.0->sentence_transformers) (3.0.12)\n",
            "Collecting sacremoses\n",
            "\u001b[?25l  Downloading https://files.pythonhosted.org/packages/7d/34/09d19aff26edcc8eb2a01bed8e98f13a1537005d31e95233fd48216eed10/sacremoses-0.0.43.tar.gz (883kB)\n",
            "\u001b[K     |████████████████████████████████| 890kB 57.1MB/s \n",
            "\u001b[?25hRequirement already satisfied: typing-extensions in /usr/local/lib/python3.6/dist-packages (from torch>=1.6.0->sentence_transformers) (3.7.4.3)\n",
            "Requirement already satisfied: future in /usr/local/lib/python3.6/dist-packages (from torch>=1.6.0->sentence_transformers) (0.16.0)\n",
            "Requirement already satisfied: joblib>=0.11 in /usr/local/lib/python3.6/dist-packages (from scikit-learn->sentence_transformers) (1.0.0)\n",
            "Requirement already satisfied: six in /usr/local/lib/python3.6/dist-packages (from nltk->sentence_transformers) (1.15.0)\n",
            "Requirement already satisfied: zipp>=0.5 in /usr/local/lib/python3.6/dist-packages (from importlib-metadata; python_version < \"3.8\"->transformers<5.0.0,>=3.1.0->sentence_transformers) (3.4.0)\n",
            "Requirement already satisfied: pyparsing>=2.0.2 in /usr/local/lib/python3.6/dist-packages (from packaging->transformers<5.0.0,>=3.1.0->sentence_transformers) (2.4.7)\n",
            "Requirement already satisfied: idna<3,>=2.5 in /usr/local/lib/python3.6/dist-packages (from requests->transformers<5.0.0,>=3.1.0->sentence_transformers) (2.10)\n",
            "Requirement already satisfied: urllib3!=1.25.0,!=1.25.1,<1.26,>=1.21.1 in /usr/local/lib/python3.6/dist-packages (from requests->transformers<5.0.0,>=3.1.0->sentence_transformers) (1.24.3)\n",
            "Requirement already satisfied: chardet<4,>=3.0.2 in /usr/local/lib/python3.6/dist-packages (from requests->transformers<5.0.0,>=3.1.0->sentence_transformers) (3.0.4)\n",
            "Requirement already satisfied: certifi>=2017.4.17 in /usr/local/lib/python3.6/dist-packages (from requests->transformers<5.0.0,>=3.1.0->sentence_transformers) (2020.12.5)\n",
            "Requirement already satisfied: click in /usr/local/lib/python3.6/dist-packages (from sacremoses->transformers<5.0.0,>=3.1.0->sentence_transformers) (7.1.2)\n",
            "Building wheels for collected packages: sentence-transformers, sacremoses\n",
            "  Building wheel for sentence-transformers (setup.py) ... \u001b[?25l\u001b[?25hdone\n",
            "  Created wheel for sentence-transformers: filename=sentence_transformers-0.4.1.2-cp36-none-any.whl size=103068 sha256=09940c7d9d4cb09a55dbca3026129296d93cb36d03225501506670f030c8eea0\n",
            "  Stored in directory: /root/.cache/pip/wheels/3d/33/d1/5703dd56199c09d4a1b41e0c07fb4e7765a84d787cbdc48ac3\n",
            "  Building wheel for sacremoses (setup.py) ... \u001b[?25l\u001b[?25hdone\n",
            "  Created wheel for sacremoses: filename=sacremoses-0.0.43-cp36-none-any.whl size=893261 sha256=c9d5d0a6033479b9b62034da6e27e2acad97dd83ade5a8b431eb4a49338ca686\n",
            "  Stored in directory: /root/.cache/pip/wheels/29/3c/fd/7ce5c3f0666dab31a50123635e6fb5e19ceb42ce38d4e58f45\n",
            "Successfully built sentence-transformers sacremoses\n",
            "Installing collected packages: tokenizers, sacremoses, transformers, sentencepiece, sentence-transformers\n",
            "Successfully installed sacremoses-0.0.43 sentence-transformers-0.4.1.2 sentencepiece-0.1.95 tokenizers-0.9.4 transformers-4.2.1\n"
          ],
          "name": "stdout"
        }
      ]
    },
    {
      "cell_type": "code",
      "metadata": {
        "id": "QvFW4Ms4sBtD"
      },
      "source": [
        "import keras\r\n",
        "from keras import backend as K\r\n",
        "import numpy as np\r\n",
        "import sentence_transformers\r\n"
      ],
      "execution_count": 6,
      "outputs": []
    },
    {
      "cell_type": "code",
      "metadata": {
        "id": "wawOVfPjsoKH"
      },
      "source": [
        "def cosineSimlarity(vector1,vector2):\r\n",
        "     dot = np.dot(vector1, vector2)\r\n",
        "     norma = np.linalg.norm(vector1)\r\n",
        "     normb = np.linalg.norm(vector2)\r\n",
        "     simlarity = dot / (norma * normb)\r\n",
        "     return simlarity"
      ],
      "execution_count": 7,
      "outputs": []
    },
    {
      "cell_type": "code",
      "metadata": {
        "colab": {
          "base_uri": "https://localhost:8080/"
        },
        "id": "h404beTFsr8H",
        "outputId": "19126a3a-584a-4f50-f760-aff0067b2489"
      },
      "source": [
        "\r\n",
        "from sentence_transformers import SentenceTransformer\r\n",
        "sbert_model = SentenceTransformer('bert-base-nli-mean-tokens')"
      ],
      "execution_count": 8,
      "outputs": [
        {
          "output_type": "stream",
          "text": [
            "100%|██████████| 405M/405M [03:48<00:00, 1.78MB/s]\n"
          ],
          "name": "stderr"
        }
      ]
    },
    {
      "cell_type": "code",
      "metadata": {
        "colab": {
          "base_uri": "https://localhost:8080/"
        },
        "id": "6apN5KZrssrK",
        "outputId": "b86f36a0-48ed-494b-f254-fa8969cec7b9"
      },
      "source": [
        "query = \"I had pizza and pasta\"\r\n",
        "query_vec = sbert_model.encode([query])[0]\r\n",
        "print(query_vec)"
      ],
      "execution_count": 10,
      "outputs": [
        {
          "output_type": "stream",
          "text": [
            "[-3.42015356e-01 -1.40695989e-01  4.11347926e-01 -1.02897573e+00\n",
            "  1.21958837e-01  6.64408624e-01 -5.69812179e-01  1.11760938e+00\n",
            "  2.40473956e-01 -7.23416865e-01  4.17793095e-01  8.35892498e-01\n",
            "  4.12918419e-01  1.36410087e-01 -2.96585232e-01 -7.48637170e-02\n",
            "  3.63462269e-01 -4.15561855e-01  9.93328467e-02 -2.92702705e-01\n",
            "  9.31854080e-03  4.03488249e-01 -9.57592547e-01 -1.89883813e-01\n",
            " -3.74110699e-01  5.53233564e-01 -1.18001802e-02  4.06186581e-01\n",
            "  3.91321242e-01  1.73232034e-01 -1.29556973e-02  3.63067806e-01\n",
            "  4.77960289e-01 -9.98451412e-01 -6.50593340e-01 -3.46766800e-01\n",
            "  5.17412364e-01  7.87057579e-01 -5.59052706e-01  1.10681665e+00\n",
            "  7.70529091e-01 -4.10312712e-01  7.97993660e-01  3.55300307e-03\n",
            " -1.14190854e-01 -2.02312991e-01  6.83486089e-02  1.10407054e+00\n",
            " -2.09573165e-01 -9.85752404e-01  2.10405207e+00 -1.33310103e+00\n",
            " -6.56237245e-01  4.61131752e-01 -3.28385562e-01  1.37817478e+00\n",
            " -2.61146039e-01 -5.11913478e-01  5.62101185e-01 -1.69509172e-01\n",
            " -8.08536649e-01  8.04491699e-01  5.97783267e-01 -9.17839333e-02\n",
            " -8.73714864e-01 -8.94257054e-02 -7.84489632e-01 -2.94499785e-01\n",
            "  2.25653782e-01 -3.08207065e-01  3.26623730e-02 -1.32139313e+00\n",
            " -7.18009651e-01 -1.50483876e-01  2.09898263e-01 -1.50360560e+00\n",
            " -8.21603090e-02  9.82881904e-01 -1.57366142e-01  7.02832406e-03\n",
            " -2.94285834e-01 -6.79264724e-01  6.09532058e-01 -4.11184728e-01\n",
            " -1.81163833e-01  5.91055751e-01 -4.37855572e-01 -2.94220299e-01\n",
            "  6.25828877e-02  4.02198732e-02  3.04411501e-01 -5.02287075e-02\n",
            "  2.81719893e-01 -1.49179369e-01 -2.09056288e-01 -1.70328879e+00\n",
            " -3.00642759e-01  5.32471716e-01  2.60445625e-01  4.57757682e-01\n",
            " -1.52813327e+00  6.78306460e-01 -4.62269634e-01  7.62051761e-01\n",
            "  1.86404422e-01 -1.81211010e-01 -4.28099155e-01 -3.78061563e-01\n",
            "  6.21596754e-01 -1.33203834e-01 -5.30602597e-02  1.54969886e-01\n",
            "  4.08253014e-01 -1.79369554e-01 -6.36879027e-01  3.47281873e-01\n",
            " -6.92977533e-02 -3.61065000e-01 -1.71029776e-01 -3.76478255e-01\n",
            "  3.42820436e-01 -1.70028582e-01 -1.28910197e-02 -1.93163648e-01\n",
            "  8.64118278e-01 -3.73912126e-01  6.41842663e-01 -3.86160687e-02\n",
            " -6.37696385e-01 -7.85776615e-01  4.73826081e-01  2.68850774e-01\n",
            " -2.77082652e-01 -3.69895488e-01  1.05225496e-01  3.34874302e-01\n",
            "  1.45298347e-01 -7.06220984e-01 -7.91914821e-01 -9.47037518e-01\n",
            " -5.51594913e-01  6.27913773e-01 -2.90782452e-01 -1.02308774e+00\n",
            " -4.91123408e-01 -5.26426375e-01  9.67004240e-01  2.59066761e-01\n",
            " -1.09784104e-01  1.53932706e-01  6.81114316e-01  1.76931217e-01\n",
            " -6.05303764e-01 -3.99449855e-01  6.32886112e-01  4.15407181e-01\n",
            " -9.37191665e-01  8.27794150e-02  1.07280865e-01 -2.36325458e-01\n",
            "  2.45454326e-01  2.34290689e-01  3.57098848e-01 -3.10049206e-01\n",
            "  4.30375546e-01 -9.29158330e-01 -7.96972737e-02 -8.08903754e-01\n",
            " -9.08944383e-02  1.35550559e+00 -4.52113748e-02  2.34175101e-01\n",
            "  6.73503876e-01  2.84664422e-01  8.95612240e-01 -1.01014984e+00\n",
            "  3.06780130e-01  1.14764786e+00 -7.44620115e-02 -7.55967796e-01\n",
            " -3.24729867e-02 -7.73508847e-01  8.69463921e-01 -9.71454978e-01\n",
            " -4.02546555e-01 -4.20645744e-01  8.61386299e-01 -4.60658252e-01\n",
            "  9.89660442e-01  1.73050952e+00 -2.49950424e-01 -6.07292533e-01\n",
            " -4.09726143e-01 -9.15713966e-01  2.66724192e-02  1.59632444e-01\n",
            " -6.40682697e-01  7.15331614e-01  7.58285522e-01 -7.68295169e-01\n",
            " -7.11258948e-01 -2.16564208e-01  1.03918076e+00  1.94784567e-01\n",
            "  1.32127628e-01  8.36795926e-01  1.52683899e-01  1.02436280e+00\n",
            "  5.97693212e-02  2.05902740e-01  3.51873666e-01 -1.20474458e-01\n",
            "  8.01668704e-01 -3.45140755e-01  3.13816816e-01  2.29327917e-01\n",
            "  5.55823386e-01  8.38899672e-01  4.46041107e-01 -6.10351443e-01\n",
            "  8.32674921e-01  8.56718540e-01 -9.67773944e-02  7.99954116e-01\n",
            " -1.83032900e-01 -2.01284662e-01 -2.66619533e-01  4.56130475e-01\n",
            "  1.78234220e-01  6.28887832e-01  4.63028252e-01  2.75038444e-02\n",
            " -1.78212568e-01  9.77965713e-01  5.11774123e-01 -1.69759482e-01\n",
            " -4.82989311e-01  3.96555156e-01  7.30686247e-01 -1.20441847e-01\n",
            "  1.41924846e+00  1.78887054e-01 -9.40852702e-01 -1.67426452e-01\n",
            " -7.56519020e-01 -7.47814402e-02  9.01665866e-01  1.88667402e-01\n",
            "  5.43459095e-02  5.64223945e-01 -1.57737091e-01 -4.25699443e-01\n",
            "  6.39398277e-01 -6.56323016e-01  7.92001605e-01 -4.86885011e-01\n",
            "  2.23895162e-01  9.54649508e-01  4.79519814e-01 -1.06271398e+00\n",
            " -3.85059804e-01 -1.38315409e-01  2.35260222e-02 -2.69334137e-01\n",
            " -3.67055476e-01  1.20974576e+00 -9.92341340e-01 -3.27073894e-02\n",
            " -2.98241936e-02  8.59148026e-01  4.43084240e-01  3.24862182e-01\n",
            " -9.56662059e-01 -7.68570751e-02 -1.85232416e-01 -5.14996707e-01\n",
            " -1.70795962e-01  2.70378321e-01 -7.65500188e-01  3.36138815e-01\n",
            " -3.92667741e-01 -9.12019983e-02 -5.37353337e-01  8.02816987e-01\n",
            " -9.75060940e-01  1.35423511e-01  4.95782644e-01 -6.41667068e-01\n",
            " -4.44148511e-01  2.32716426e-01  1.24195874e+00  4.30585712e-01\n",
            " -7.56797254e-01 -2.52311349e-01 -4.02097315e-01 -3.91570717e-01\n",
            "  7.74897859e-02 -8.91447604e-01  3.78194638e-02  2.75216643e-02\n",
            "  6.36623085e-01 -6.22716129e-01  1.82088718e-01  1.60028780e+00\n",
            " -2.21162602e-01 -1.08074939e+00  2.06444159e-01  2.87086777e-02\n",
            " -9.57737386e-01 -1.12644613e+00 -8.54276478e-01  5.25182068e-01\n",
            "  5.74727595e-01  2.70844966e-01 -8.62235278e-02 -1.12284112e+00\n",
            "  6.03223801e-01  7.17879772e-01 -7.33186543e-01 -8.02018046e-01\n",
            "  1.70413047e-01  6.57541096e-01  1.88594297e-01  7.69764930e-02\n",
            " -4.44237024e-01 -4.96176064e-01 -1.65835656e-02  5.27842224e-01\n",
            "  6.95824265e-01 -1.04643667e+00  9.60205019e-01  2.23985180e-01\n",
            " -4.35291976e-01  9.20013785e-01 -1.00822937e+00  7.92567372e-01\n",
            " -7.22138286e-01  8.27466100e-02 -1.13164239e-01  4.99011278e-01\n",
            "  4.50085491e-01 -7.83338547e-01  8.33636701e-01 -4.04591858e-01\n",
            "  1.10239461e-01  5.46743274e-01  1.90726027e-01  1.80749416e-01\n",
            " -2.70833820e-01  9.65565264e-01 -4.10464823e-01 -1.25185096e+00\n",
            "  7.86692202e-01 -6.81927621e-01 -2.23091707e-01  6.74141869e-02\n",
            " -1.56932816e-01  4.92312610e-01  2.38464642e-02  6.36489987e-01\n",
            "  4.42813694e-01  1.21216404e+00  7.00873494e-01  1.20742902e-01\n",
            " -2.83258915e-01 -8.50060135e-02  1.16212761e+00 -6.01490557e-01\n",
            "  5.21943450e-01  4.48741734e-01 -1.23273134e-01  3.43240169e-03\n",
            " -4.30867881e-01  7.01677740e-01  3.52596343e-01  3.59289616e-01\n",
            " -5.71263671e-01 -3.22287083e-01  2.22534090e-01 -1.03636420e+00\n",
            "  8.58874381e-01 -7.70350158e-01  8.20422351e-01 -7.17446625e-01\n",
            " -1.00693202e+00  6.70787156e-01  1.59662113e-01  6.30740702e-01\n",
            " -4.59731817e-01 -2.62504399e-01  8.27358440e-02  1.46870404e-01\n",
            "  2.85984904e-01 -4.22137119e-02 -2.96763361e-01 -1.22230721e+00\n",
            " -8.04084182e-01 -1.93994209e-01 -2.18681600e-02 -7.27936625e-01\n",
            " -4.17770781e-02 -1.00918122e-01  7.56552517e-01  1.02997017e+00\n",
            " -4.19751965e-02  5.57160787e-02  3.78942013e-01  6.98258402e-03\n",
            "  2.74046361e-01 -8.05571556e-01  4.31935757e-01  1.68789580e-01\n",
            "  1.08143342e+00 -5.76334409e-02 -3.51033270e-01  1.32542014e-01\n",
            "  8.68645608e-01 -2.51721710e-01  8.31621438e-02  3.92058551e-01\n",
            " -8.47853720e-01 -8.36638331e-01  1.18258283e-01  9.72345352e-01\n",
            " -2.58038253e-01 -6.90827072e-01 -5.10276377e-01  7.93391645e-01\n",
            " -1.93363920e-01 -7.88347900e-01 -2.65876889e-01  6.35358989e-02\n",
            "  3.85211200e-01 -9.77716565e-01  7.56831050e-01 -7.17281520e-01\n",
            "  8.56611073e-01  6.40487969e-01  4.23983306e-01  4.37877595e-01\n",
            " -1.04732074e-01  7.48653337e-02  5.22728801e-01 -3.50481421e-01\n",
            " -6.89135730e-01  1.52543798e-01  2.74707288e-01  2.06531048e-01\n",
            "  1.75889030e-01 -1.91252515e-01  9.94540602e-02  2.33116776e-01\n",
            " -2.48108700e-01  1.48234940e+00  4.68727767e-01 -2.89966017e-01\n",
            " -3.37442964e-01  3.15215737e-01  6.32893620e-03  9.42654759e-02\n",
            " -5.08278981e-02  6.04286902e-02 -1.56047657e-01  1.18690148e-01\n",
            "  7.65395820e-01  5.91517746e-01 -1.27173400e+00  1.79638177e-01\n",
            "  6.71847761e-01 -9.12374496e-01  1.87194303e-01  4.92360592e-01\n",
            " -3.83779377e-01  7.19228566e-01 -1.70883746e-03 -1.46585107e+00\n",
            " -7.50448853e-02  4.50467259e-01 -5.84401488e-01  3.85709435e-01\n",
            "  1.58032447e-01  6.49358749e-01 -3.37872326e-01  2.58113354e-01\n",
            " -5.88690639e-01  4.51537549e-01 -1.06168687e+00 -2.33210057e-01\n",
            "  5.66503219e-02 -6.57784164e-01 -2.65390456e-01  5.46464503e-01\n",
            " -1.39221120e+00 -1.00699127e+00  4.69598562e-01  7.43831042e-03\n",
            " -6.71241343e-01 -9.51072574e-02 -7.75331482e-02  4.02155846e-01\n",
            "  1.71037412e+00  4.23182100e-01  5.04595101e-01 -3.83080721e-01\n",
            "  9.85644534e-02 -2.60341298e-02 -3.33735675e-01 -1.10235322e+00\n",
            " -1.71282515e-01  6.21727169e-01 -1.75350690e+00  5.10222137e-01\n",
            "  8.29737306e-01 -7.01295674e-01 -3.26780193e-02 -1.54539064e-01\n",
            "  2.38976523e-01  8.44331205e-01 -2.91427076e-01 -5.82447052e-01\n",
            "  1.48284733e+00  1.98160931e-01 -8.95363688e-02  6.26242757e-01\n",
            " -7.08930314e-01  8.06405023e-02  1.38989520e+00 -8.60350549e-01\n",
            "  4.63733496e-03 -1.07683647e+00 -1.24337494e+00 -3.17095965e-01\n",
            " -5.36707819e-01  1.92876160e+00 -3.09790462e-01 -3.77709329e-01\n",
            " -4.55856264e-01 -3.72265965e-01  1.54291824e-01  1.95001155e-01\n",
            "  5.11686444e-01  5.77961504e-01  9.77032661e-01 -4.23643142e-01\n",
            " -5.50614774e-01 -4.38304186e-01  1.50621697e-01  8.75668645e-01\n",
            "  4.11795713e-02 -1.22544654e-01  3.74890983e-01 -6.05782688e-01\n",
            " -2.45473579e-01  5.40723324e-01 -1.39733046e-01 -2.21159294e-01\n",
            " -9.81579363e-01  2.32499018e-01 -4.22201395e-01 -9.09329236e-01\n",
            "  2.69590050e-01  2.23360524e-01 -3.22829157e-01 -1.10723042e+00\n",
            " -3.91977578e-01 -1.26477808e-01 -1.82517141e-01 -3.05429697e-01\n",
            " -8.58715713e-01  5.74694216e-01 -1.38121843e-01  3.57404530e-01\n",
            " -1.48542851e-01  7.58980572e-01  7.50052603e-03 -7.22747743e-01\n",
            " -5.08584142e-01  7.28632331e-01 -2.84030974e-01 -6.68879151e-01\n",
            " -3.88608605e-01  3.81292164e-01  9.09428775e-01  4.54657763e-01\n",
            "  5.86800635e-01 -2.68571734e-01  1.39042199e+00 -3.56114388e-01\n",
            " -5.16711354e-01 -1.55836433e-01  2.02030182e-01 -3.71543951e-02\n",
            " -5.40827751e-01 -1.59158385e+00 -7.88221478e-01  2.37160698e-01\n",
            " -7.89283097e-01  1.45714557e+00 -6.46655202e-01 -6.28919721e-01\n",
            "  4.82166350e-01 -9.95439112e-01 -1.42437065e+00  7.28545606e-01\n",
            " -3.24011564e-01  1.65597200e-01 -6.27519131e-01 -5.58677316e-01\n",
            " -4.79457796e-01  1.93403006e-01 -1.02608716e+00  8.28927085e-02\n",
            " -3.89083236e-01 -1.56236038e-01 -3.76490384e-01 -6.90994084e-01\n",
            "  8.04427803e-01 -3.73116553e-01  4.15371329e-01 -1.04702532e+00\n",
            "  6.34064674e-01  6.62315547e-01 -4.45028812e-01  1.01119295e-01\n",
            "  6.66801572e-01 -3.56415361e-01 -5.39756536e-01  3.71023029e-01\n",
            "  6.35836065e-01 -7.33086109e-01  4.56151038e-01 -4.81980175e-01\n",
            " -5.30098617e-01 -3.05512339e-01 -1.26020515e+00  2.27089778e-01\n",
            " -7.19709575e-01 -4.60304797e-01 -7.71914423e-01  1.64793730e-01\n",
            " -6.88745499e-01 -1.89869211e-03 -8.79180789e-01 -9.97815132e-02\n",
            "  5.57597458e-01 -4.23431844e-01  2.01311484e-01  5.98826051e-01\n",
            "  3.67893547e-01  7.19682336e-01 -6.49222553e-01  9.70216215e-01\n",
            " -4.81054962e-01  2.58712828e-01 -4.29365218e-01 -3.97417545e-01\n",
            " -4.44597811e-01 -5.21800160e-01 -1.22085679e+00  3.94670695e-01\n",
            "  6.94626629e-01  1.69515580e-01  4.53786820e-01  3.23439926e-01\n",
            " -4.27139938e-01 -9.43310857e-01 -4.83259350e-01  7.13722050e-01\n",
            " -6.67577237e-02  2.32165605e-01  5.64910591e-01 -1.29154575e+00\n",
            "  5.55377066e-01  6.27366960e-01 -9.99675274e-01 -1.02148044e+00\n",
            "  3.68229486e-02  1.27411675e+00  5.47471225e-01 -1.86054438e-01\n",
            " -4.39815700e-01 -2.15283021e-01  1.16680399e-01  3.91140193e-01\n",
            " -6.54228866e-01  1.20732510e+00 -1.26234472e-01 -3.16002667e-01\n",
            "  1.02400400e-01 -3.13951194e-01 -2.39693522e-02  7.29506603e-03\n",
            " -4.53894466e-01 -2.94707924e-01 -4.70058918e-01  6.04312897e-01\n",
            " -9.40668404e-01  6.36826158e-01 -5.62628210e-01 -5.88457406e-01\n",
            " -6.14477575e-01  2.06081793e-01 -3.28685015e-01 -1.14671040e+00\n",
            "  5.29201096e-03 -3.69205087e-01 -1.70668200e-01 -1.13447523e+00\n",
            " -1.33976415e-01  5.57845950e-01  1.14068115e+00  7.28267193e-01\n",
            "  3.63211781e-01  5.75642049e-01  1.55006364e-01  5.42427480e-01\n",
            " -4.29154545e-01  8.48796546e-01  3.24739695e-01 -2.33446747e-01\n",
            " -1.06295264e+00 -2.78590709e-01 -3.43668282e-01  3.59198332e-01\n",
            "  1.60645142e-01 -7.48247504e-01  1.73190033e+00 -3.02466542e-01\n",
            " -1.10483445e-01 -8.86516631e-01 -4.68230247e-01 -2.11633332e-02\n",
            " -6.61048234e-01  1.68109670e-01  3.66733760e-01  1.21091679e-01\n",
            " -2.68891424e-01 -3.58899504e-01 -6.40667081e-01  5.85772932e-01\n",
            "  5.14975667e-01 -3.05060804e-01 -1.67612001e-01  3.07207376e-01\n",
            "  9.53850389e-01 -5.33240914e-01 -2.33872741e-01  7.98291802e-01\n",
            "  1.26895711e-01 -1.84467196e-01 -2.24311665e-01 -1.22392559e+00\n",
            " -1.49134055e-01  4.20237869e-01  8.52921367e-01  1.50666550e-01\n",
            " -9.70765471e-01  4.14486974e-01  6.59105927e-02 -1.39804077e+00\n",
            "  3.24222982e-01  3.15720826e-01 -8.79163519e-02  3.58930767e-01\n",
            " -1.51258141e-01  1.96322545e-01  5.56661010e-01 -9.30685550e-02]\n"
          ],
          "name": "stdout"
        }
      ]
    },
    {
      "cell_type": "code",
      "metadata": {
        "colab": {
          "base_uri": "https://localhost:8080/"
        },
        "id": "rPi-OyNCs0gQ",
        "outputId": "a3e76df6-06c8-4afe-9631-6971d30280a4"
      },
      "source": [
        "sentences=['I ate dinner','we had three-course meal','He loves fish tacos','I read book']\r\n",
        "for sent in sentences:\r\n",
        "  sim = cosineSimlarity(query_vec, sbert_model.encode([sent])[0])\r\n",
        "  print(\"Sentence = \", sent, \"; similarity = \", sim)"
      ],
      "execution_count": 11,
      "outputs": [
        {
          "output_type": "stream",
          "text": [
            "Sentence =  I ate dinner ; similarity =  0.7062613\n",
            "Sentence =  we had three-course meal ; similarity =  0.63179255\n",
            "Sentence =  He loves fish tacos ; similarity =  0.60819566\n",
            "Sentence =  I read book ; similarity =  0.27690426\n"
          ],
          "name": "stdout"
        }
      ]
    }
  ]
}